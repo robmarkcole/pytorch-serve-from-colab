{
 "cells": [
  {
   "cell_type": "markdown",
   "metadata": {},
   "source": [
    "Run this notebook on colab - requires `imagenet_class_index.json` in the same folder"
   ]
  },
  {
   "cell_type": "code",
   "execution_count": null,
   "metadata": {},
   "outputs": [],
   "source": [
    "!pip install flask-ngrok\n",
    "!pip install flask==0.12.2  # Newer versions of flask don't work in Colab"
   ]
  },
  {
   "cell_type": "code",
   "execution_count": null,
   "metadata": {},
   "outputs": [
    {
     "name": "stdout",
     "output_type": "stream",
     "text": [
      " * Serving Flask app \"__main__\" (lazy loading)\n",
      " * Environment: production\n",
      "   WARNING: This is a development server. Do not use it in a production deployment.\n",
      "   Use a production WSGI server instead.\n",
      " * Debug mode: off\n"
     ]
    },
    {
     "name": "stderr",
     "output_type": "stream",
     "text": [
      " * Running on http://127.0.0.1:5000/ (Press CTRL+C to quit)\n",
      "Exception in thread Thread-4:\n",
      "Traceback (most recent call last):\n",
      "  File \"/Users/robincole/anaconda3/lib/python3.7/threading.py\", line 917, in _bootstrap_inner\n",
      "    self.run()\n",
      "  File \"/Users/robincole/anaconda3/lib/python3.7/threading.py\", line 1166, in run\n",
      "    self.function(*self.args, **self.kwargs)\n",
      "  File \"/Users/robincole/anaconda3/lib/python3.7/site-packages/flask_ngrok.py\", line 70, in start_ngrok\n",
      "    ngrok_address = _run_ngrok()\n",
      "  File \"/Users/robincole/anaconda3/lib/python3.7/site-packages/flask_ngrok.py\", line 31, in _run_ngrok\n",
      "    ngrok = subprocess.Popen([executable, 'http', '5000'])\n",
      "  File \"/Users/robincole/anaconda3/lib/python3.7/subprocess.py\", line 775, in __init__\n",
      "    restore_signals, start_new_session)\n",
      "  File \"/Users/robincole/anaconda3/lib/python3.7/subprocess.py\", line 1522, in _execute_child\n",
      "    raise child_exception_type(errno_num, err_msg, err_filename)\n",
      "PermissionError: [Errno 13] Permission denied: '/var/folders/0v/jj4cv55d7hs6mn_sn3t8b4kh0000gn/T/ngrok/ngrok'\n",
      "\n"
     ]
    }
   ],
   "source": [
    "import io\n",
    "import json\n",
    "\n",
    "from torchvision import models\n",
    "import torchvision.transforms as transforms\n",
    "from PIL import Image\n",
    "from flask import Flask, jsonify, request\n",
    "from flask_ngrok import run_with_ngrok\n",
    "\n",
    "\n",
    "app = Flask(__name__)\n",
    "run_with_ngrok(app)  # Start ngrok when app is run\n",
    "imagenet_class_index = json.load(open('imagenet_class_index.json'))\n",
    "model = models.densenet121(pretrained=True)\n",
    "model.eval()\n",
    "\n",
    "\n",
    "def transform_image(image_bytes):\n",
    "    my_transforms = transforms.Compose([transforms.Resize(255),\n",
    "                                        transforms.CenterCrop(224),\n",
    "                                        transforms.ToTensor(),\n",
    "                                        transforms.Normalize(\n",
    "                                            [0.485, 0.456, 0.406],\n",
    "                                            [0.229, 0.224, 0.225])])\n",
    "    image = Image.open(io.BytesIO(image_bytes))\n",
    "    return my_transforms(image).unsqueeze(0)\n",
    "\n",
    "\n",
    "def get_prediction(image_bytes):\n",
    "    tensor = transform_image(image_bytes=image_bytes)\n",
    "    outputs = model.forward(tensor)\n",
    "    _, y_hat = outputs.max(1)\n",
    "    predicted_idx = str(y_hat.item())\n",
    "    return imagenet_class_index[predicted_idx]\n",
    "\n",
    "\n",
    "@app.route('/predict', methods=['POST'])\n",
    "def predict():\n",
    "    if request.method == 'POST':\n",
    "        file = request.files['file']\n",
    "        img_bytes = file.read()\n",
    "        class_id, class_name = get_prediction(image_bytes=img_bytes)\n",
    "        return jsonify({'class_id': class_id, 'class_name': class_name})\n",
    "\n",
    "@app.route(\"/\")\n",
    "def info():\n",
    "    return \"Serving up pytorch model\"\n",
    "\n",
    "if __name__ == '__main__':\n",
    "    app.run()"
   ]
  },
  {
   "cell_type": "code",
   "execution_count": null,
   "metadata": {},
   "outputs": [],
   "source": []
  }
 ],
 "metadata": {
  "kernelspec": {
   "display_name": "Python 3",
   "language": "python",
   "name": "python3"
  },
  "language_info": {
   "codemirror_mode": {
    "name": "ipython",
    "version": 3
   },
   "file_extension": ".py",
   "mimetype": "text/x-python",
   "name": "python",
   "nbconvert_exporter": "python",
   "pygments_lexer": "ipython3",
   "version": "3.7.3"
  }
 },
 "nbformat": 4,
 "nbformat_minor": 2
}
